{
 "cells": [
  {
   "cell_type": "code",
   "execution_count": null,
   "metadata": {},
   "outputs": [],
   "source": []
  },
  {
   "cell_type": "markdown",
   "metadata": {},
   "source": [
    "# Analysis of Flight Delays (December 2019 and 2020)"
   ]
  },
  {
   "cell_type": "markdown",
   "metadata": {},
   "source": [
    "## Data \n",
    "Airline Delays for December 2019 and 2020.\n",
    "\n",
    "Description: Summary Data counts for airline per carrier per US City.\n",
    "\n",
    "Attributes\n",
    "- year: Year data collected\n",
    "- month: representation of the month\n",
    "- carrier: Carrier\n",
    "- carrier_name: Carrier Name\n",
    "- airport: Airport code\n",
    "- airport_name: Name of airport\n",
    "- arr_flights: Number of flights arriving at airport\n",
    "- arr_del15: Number of flights more than 15 minutes late\n",
    "- carrier_ct: Number of flights delayed due to air carrier (e.g. no crew)\n",
    "- weather_ct: Number of flights due to weather\n",
    "- nas_ct: Number of flights delayed due to National Aviation System (e.g. heavy air traffic)\n",
    "- security_ct: Number of flights canceled due to a security breach\n",
    "- late_aircraft_ct: Number of flights delayed as a result of another flight on the same aircraft delayed\n",
    "- arr_cancelled: Number of cancelled flights\n",
    "- arr_diverted: Number of flights that were diverted\n",
    "- arr_delay: Total time (minutes) of delayed flight\n",
    "- carrier_delay: Total time (minutes) of delay due to air carrier\n",
    "- weather_delay: Total time (minutes) of delay due to inclement weather\n",
    "- nas_delay: Total time (minutes) of delay due to National Aviation System\n",
    "- security_delay: Total time (minutes) of delay as a result of a security issue\n",
    "- late_aircraft_delay: Total time (minutes) of delay flights as a result of a previous flight on the same airplane being \n",
    "\n",
    "Recovered from: https://www.transtats.bts.gov/OT_Delay/OT_DelayCause1.asp?20=E\n",
    "And https://www.openintro.org/data/index.php?data=airline_delay"
   ]
  },
  {
   "cell_type": "code",
   "execution_count": 1,
   "metadata": {},
   "outputs": [],
   "source": [
    "import pandas as pd\n",
    "import numpy as np\n",
    "import matplotlib.pyplot as plt\n",
    "import seaborn as sns\n",
    "from itertools import combinations\n",
    "\n",
    "pd.set_option('display.max_colwidth', 50)\n",
    "pd.set_option('display.max_columns', None)\n",
    "plt.style.use('fivethirtyeight')\n",
    "plt.rcParams['figure.facecolor'] = 'white'"
   ]
  },
  {
   "cell_type": "code",
   "execution_count": 5,
   "metadata": {},
   "outputs": [
    {
     "data": {
      "text/html": [
       "<div>\n",
       "<style scoped>\n",
       "    .dataframe tbody tr th:only-of-type {\n",
       "        vertical-align: middle;\n",
       "    }\n",
       "\n",
       "    .dataframe tbody tr th {\n",
       "        vertical-align: top;\n",
       "    }\n",
       "\n",
       "    .dataframe thead th {\n",
       "        text-align: right;\n",
       "    }\n",
       "</style>\n",
       "<table border=\"1\" class=\"dataframe\">\n",
       "  <thead>\n",
       "    <tr style=\"text-align: right;\">\n",
       "      <th></th>\n",
       "      <th>year</th>\n",
       "      <th>month</th>\n",
       "      <th>carrier</th>\n",
       "      <th>carrier_name</th>\n",
       "      <th>airport</th>\n",
       "      <th>airport_name</th>\n",
       "      <th>arr_flights</th>\n",
       "      <th>arr_del15</th>\n",
       "      <th>carrier_ct</th>\n",
       "      <th>weather_ct</th>\n",
       "      <th>nas_ct</th>\n",
       "      <th>security_ct</th>\n",
       "      <th>late_aircraft_ct</th>\n",
       "      <th>arr_cancelled</th>\n",
       "      <th>arr_diverted</th>\n",
       "      <th>arr_delay</th>\n",
       "      <th>carrier_delay</th>\n",
       "      <th>weather_delay</th>\n",
       "      <th>nas_delay</th>\n",
       "      <th>security_delay</th>\n",
       "      <th>late_aircraft_delay</th>\n",
       "    </tr>\n",
       "  </thead>\n",
       "  <tbody>\n",
       "    <tr>\n",
       "      <th>3048</th>\n",
       "      <td>2019</td>\n",
       "      <td>12</td>\n",
       "      <td>AA</td>\n",
       "      <td>American Airlines Inc.</td>\n",
       "      <td>SNA</td>\n",
       "      <td>Santa Ana, CA: John Wayne Airport-Orange County</td>\n",
       "      <td>524.0</td>\n",
       "      <td>81.0</td>\n",
       "      <td>32.72</td>\n",
       "      <td>4.02</td>\n",
       "      <td>25.48</td>\n",
       "      <td>0.94</td>\n",
       "      <td>17.84</td>\n",
       "      <td>0.0</td>\n",
       "      <td>6.0</td>\n",
       "      <td>3382.0</td>\n",
       "      <td>1257.0</td>\n",
       "      <td>188.0</td>\n",
       "      <td>712.0</td>\n",
       "      <td>17.0</td>\n",
       "      <td>1208.0</td>\n",
       "    </tr>\n",
       "    <tr>\n",
       "      <th>1140</th>\n",
       "      <td>2020</td>\n",
       "      <td>12</td>\n",
       "      <td>OO</td>\n",
       "      <td>SkyWest Airlines Inc.</td>\n",
       "      <td>PLN</td>\n",
       "      <td>Pellston, MI: Pellston Regional Airport of Emm...</td>\n",
       "      <td>53.0</td>\n",
       "      <td>10.0</td>\n",
       "      <td>7.00</td>\n",
       "      <td>3.00</td>\n",
       "      <td>0.00</td>\n",
       "      <td>0.00</td>\n",
       "      <td>0.00</td>\n",
       "      <td>0.0</td>\n",
       "      <td>0.0</td>\n",
       "      <td>1014.0</td>\n",
       "      <td>229.0</td>\n",
       "      <td>785.0</td>\n",
       "      <td>0.0</td>\n",
       "      <td>0.0</td>\n",
       "      <td>0.0</td>\n",
       "    </tr>\n",
       "    <tr>\n",
       "      <th>842</th>\n",
       "      <td>2020</td>\n",
       "      <td>12</td>\n",
       "      <td>NK</td>\n",
       "      <td>Spirit Air Lines</td>\n",
       "      <td>SJU</td>\n",
       "      <td>San Juan, PR: Luis Munoz Marin International</td>\n",
       "      <td>364.0</td>\n",
       "      <td>43.0</td>\n",
       "      <td>7.15</td>\n",
       "      <td>4.42</td>\n",
       "      <td>21.91</td>\n",
       "      <td>0.00</td>\n",
       "      <td>9.52</td>\n",
       "      <td>4.0</td>\n",
       "      <td>1.0</td>\n",
       "      <td>1974.0</td>\n",
       "      <td>273.0</td>\n",
       "      <td>220.0</td>\n",
       "      <td>955.0</td>\n",
       "      <td>0.0</td>\n",
       "      <td>526.0</td>\n",
       "    </tr>\n",
       "  </tbody>\n",
       "</table>\n",
       "</div>"
      ],
      "text/plain": [
       "      year  month carrier            carrier_name airport  \\\n",
       "3048  2019     12      AA  American Airlines Inc.     SNA   \n",
       "1140  2020     12      OO   SkyWest Airlines Inc.     PLN   \n",
       "842   2020     12      NK        Spirit Air Lines     SJU   \n",
       "\n",
       "                                           airport_name  arr_flights  \\\n",
       "3048    Santa Ana, CA: John Wayne Airport-Orange County        524.0   \n",
       "1140  Pellston, MI: Pellston Regional Airport of Emm...         53.0   \n",
       "842        San Juan, PR: Luis Munoz Marin International        364.0   \n",
       "\n",
       "      arr_del15  carrier_ct  weather_ct  nas_ct  security_ct  \\\n",
       "3048       81.0       32.72        4.02   25.48         0.94   \n",
       "1140       10.0        7.00        3.00    0.00         0.00   \n",
       "842        43.0        7.15        4.42   21.91         0.00   \n",
       "\n",
       "      late_aircraft_ct  arr_cancelled  arr_diverted  arr_delay  carrier_delay  \\\n",
       "3048             17.84            0.0           6.0     3382.0         1257.0   \n",
       "1140              0.00            0.0           0.0     1014.0          229.0   \n",
       "842               9.52            4.0           1.0     1974.0          273.0   \n",
       "\n",
       "      weather_delay  nas_delay  security_delay  late_aircraft_delay  \n",
       "3048          188.0      712.0            17.0               1208.0  \n",
       "1140          785.0        0.0             0.0                  0.0  \n",
       "842           220.0      955.0             0.0                526.0  "
      ]
     },
     "metadata": {},
     "output_type": "display_data"
    },
    {
     "name": "stdout",
     "output_type": "stream",
     "text": [
      "The dataset has 3351 rows and 21 columns.\n"
     ]
    }
   ],
   "source": [
    "df = pd.read_csv('data/airline_delay.csv')\n",
    "display(df.sample(3))\n",
    "print(f\"The dataset has {df.shape[0]} rows and {df.shape[1]} columns.\")"
   ]
  },
  {
   "cell_type": "code",
   "execution_count": 6,
   "metadata": {},
   "outputs": [
    {
     "name": "stdout",
     "output_type": "stream",
     "text": [
      "<class 'pandas.core.frame.DataFrame'>\n",
      "RangeIndex: 3351 entries, 0 to 3350\n",
      "Data columns (total 21 columns):\n",
      " #   Column               Non-Null Count  Dtype  \n",
      "---  ------               --------------  -----  \n",
      " 0   year                 3351 non-null   int64  \n",
      " 1   month                3351 non-null   int64  \n",
      " 2   carrier              3351 non-null   object \n",
      " 3   carrier_name         3351 non-null   object \n",
      " 4   airport              3351 non-null   object \n",
      " 5   airport_name         3351 non-null   object \n",
      " 6   arr_flights          3343 non-null   float64\n",
      " 7   arr_del15            3343 non-null   float64\n",
      " 8   carrier_ct           3343 non-null   float64\n",
      " 9   weather_ct           3343 non-null   float64\n",
      " 10  nas_ct               3343 non-null   float64\n",
      " 11  security_ct          3343 non-null   float64\n",
      " 12  late_aircraft_ct     3343 non-null   float64\n",
      " 13  arr_cancelled        3343 non-null   float64\n",
      " 14  arr_diverted         3343 non-null   float64\n",
      " 15  arr_delay            3343 non-null   float64\n",
      " 16  carrier_delay        3343 non-null   float64\n",
      " 17  weather_delay        3343 non-null   float64\n",
      " 18  nas_delay            3343 non-null   float64\n",
      " 19  security_delay       3343 non-null   float64\n",
      " 20  late_aircraft_delay  3343 non-null   float64\n",
      "dtypes: float64(15), int64(2), object(4)\n",
      "memory usage: 549.9+ KB\n"
     ]
    }
   ],
   "source": [
    "df.info()"
   ]
  },
  {
   "cell_type": "code",
   "execution_count": 3,
   "metadata": {},
   "outputs": [
    {
     "data": {
      "text/html": [
       "<div>\n",
       "<style scoped>\n",
       "    .dataframe tbody tr th:only-of-type {\n",
       "        vertical-align: middle;\n",
       "    }\n",
       "\n",
       "    .dataframe tbody tr th {\n",
       "        vertical-align: top;\n",
       "    }\n",
       "\n",
       "    .dataframe thead th {\n",
       "        text-align: right;\n",
       "    }\n",
       "</style>\n",
       "<table border=\"1\" class=\"dataframe\">\n",
       "  <thead>\n",
       "    <tr style=\"text-align: right;\">\n",
       "      <th></th>\n",
       "      <th>count</th>\n",
       "      <th>mean</th>\n",
       "      <th>std</th>\n",
       "      <th>min</th>\n",
       "      <th>25%</th>\n",
       "      <th>50%</th>\n",
       "      <th>75%</th>\n",
       "      <th>max</th>\n",
       "    </tr>\n",
       "  </thead>\n",
       "  <tbody>\n",
       "    <tr>\n",
       "      <th>year</th>\n",
       "      <td>3351.0</td>\n",
       "      <td>2019.459266</td>\n",
       "      <td>0.498412</td>\n",
       "      <td>2019.0</td>\n",
       "      <td>2019.00</td>\n",
       "      <td>2019.00</td>\n",
       "      <td>2020.000</td>\n",
       "      <td>2020.00</td>\n",
       "    </tr>\n",
       "    <tr>\n",
       "      <th>month</th>\n",
       "      <td>3351.0</td>\n",
       "      <td>12.000000</td>\n",
       "      <td>0.000000</td>\n",
       "      <td>12.0</td>\n",
       "      <td>12.00</td>\n",
       "      <td>12.00</td>\n",
       "      <td>12.000</td>\n",
       "      <td>12.00</td>\n",
       "    </tr>\n",
       "    <tr>\n",
       "      <th>arr_flights</th>\n",
       "      <td>3343.0</td>\n",
       "      <td>298.271014</td>\n",
       "      <td>852.436335</td>\n",
       "      <td>1.0</td>\n",
       "      <td>35.00</td>\n",
       "      <td>83.00</td>\n",
       "      <td>194.500</td>\n",
       "      <td>19713.00</td>\n",
       "    </tr>\n",
       "    <tr>\n",
       "      <th>arr_del15</th>\n",
       "      <td>3343.0</td>\n",
       "      <td>50.995214</td>\n",
       "      <td>146.484456</td>\n",
       "      <td>0.0</td>\n",
       "      <td>5.00</td>\n",
       "      <td>12.00</td>\n",
       "      <td>33.000</td>\n",
       "      <td>2289.00</td>\n",
       "    </tr>\n",
       "    <tr>\n",
       "      <th>carrier_ct</th>\n",
       "      <td>3343.0</td>\n",
       "      <td>16.065337</td>\n",
       "      <td>41.759516</td>\n",
       "      <td>0.0</td>\n",
       "      <td>1.49</td>\n",
       "      <td>4.75</td>\n",
       "      <td>12.255</td>\n",
       "      <td>697.00</td>\n",
       "    </tr>\n",
       "    <tr>\n",
       "      <th>weather_ct</th>\n",
       "      <td>3343.0</td>\n",
       "      <td>1.443144</td>\n",
       "      <td>4.821657</td>\n",
       "      <td>0.0</td>\n",
       "      <td>0.00</td>\n",
       "      <td>0.06</td>\n",
       "      <td>1.010</td>\n",
       "      <td>89.42</td>\n",
       "    </tr>\n",
       "    <tr>\n",
       "      <th>nas_ct</th>\n",
       "      <td>3343.0</td>\n",
       "      <td>16.183383</td>\n",
       "      <td>56.423008</td>\n",
       "      <td>0.0</td>\n",
       "      <td>0.82</td>\n",
       "      <td>2.98</td>\n",
       "      <td>8.870</td>\n",
       "      <td>1039.54</td>\n",
       "    </tr>\n",
       "    <tr>\n",
       "      <th>security_ct</th>\n",
       "      <td>3343.0</td>\n",
       "      <td>0.137320</td>\n",
       "      <td>0.646479</td>\n",
       "      <td>0.0</td>\n",
       "      <td>0.00</td>\n",
       "      <td>0.00</td>\n",
       "      <td>0.000</td>\n",
       "      <td>17.31</td>\n",
       "    </tr>\n",
       "    <tr>\n",
       "      <th>late_aircraft_ct</th>\n",
       "      <td>3343.0</td>\n",
       "      <td>17.166069</td>\n",
       "      <td>55.447043</td>\n",
       "      <td>0.0</td>\n",
       "      <td>0.90</td>\n",
       "      <td>3.28</td>\n",
       "      <td>10.240</td>\n",
       "      <td>819.66</td>\n",
       "    </tr>\n",
       "    <tr>\n",
       "      <th>arr_cancelled</th>\n",
       "      <td>3343.0</td>\n",
       "      <td>2.884535</td>\n",
       "      <td>10.126658</td>\n",
       "      <td>0.0</td>\n",
       "      <td>0.00</td>\n",
       "      <td>0.00</td>\n",
       "      <td>2.000</td>\n",
       "      <td>224.00</td>\n",
       "    </tr>\n",
       "    <tr>\n",
       "      <th>arr_diverted</th>\n",
       "      <td>3343.0</td>\n",
       "      <td>0.575830</td>\n",
       "      <td>2.097884</td>\n",
       "      <td>0.0</td>\n",
       "      <td>0.00</td>\n",
       "      <td>0.00</td>\n",
       "      <td>0.000</td>\n",
       "      <td>42.00</td>\n",
       "    </tr>\n",
       "    <tr>\n",
       "      <th>arr_delay</th>\n",
       "      <td>3343.0</td>\n",
       "      <td>3333.868083</td>\n",
       "      <td>10284.926623</td>\n",
       "      <td>0.0</td>\n",
       "      <td>230.00</td>\n",
       "      <td>746.00</td>\n",
       "      <td>2095.500</td>\n",
       "      <td>160383.00</td>\n",
       "    </tr>\n",
       "    <tr>\n",
       "      <th>carrier_delay</th>\n",
       "      <td>3343.0</td>\n",
       "      <td>1144.763087</td>\n",
       "      <td>3371.103512</td>\n",
       "      <td>0.0</td>\n",
       "      <td>68.50</td>\n",
       "      <td>272.00</td>\n",
       "      <td>830.500</td>\n",
       "      <td>55215.00</td>\n",
       "    </tr>\n",
       "    <tr>\n",
       "      <th>weather_delay</th>\n",
       "      <td>3343.0</td>\n",
       "      <td>177.591385</td>\n",
       "      <td>734.343542</td>\n",
       "      <td>0.0</td>\n",
       "      <td>0.00</td>\n",
       "      <td>3.00</td>\n",
       "      <td>82.000</td>\n",
       "      <td>14219.00</td>\n",
       "    </tr>\n",
       "    <tr>\n",
       "      <th>nas_delay</th>\n",
       "      <td>3343.0</td>\n",
       "      <td>749.579420</td>\n",
       "      <td>3190.509160</td>\n",
       "      <td>0.0</td>\n",
       "      <td>21.50</td>\n",
       "      <td>106.00</td>\n",
       "      <td>362.000</td>\n",
       "      <td>82064.00</td>\n",
       "    </tr>\n",
       "    <tr>\n",
       "      <th>security_delay</th>\n",
       "      <td>3343.0</td>\n",
       "      <td>5.400838</td>\n",
       "      <td>27.161402</td>\n",
       "      <td>0.0</td>\n",
       "      <td>0.00</td>\n",
       "      <td>0.00</td>\n",
       "      <td>0.000</td>\n",
       "      <td>553.00</td>\n",
       "    </tr>\n",
       "    <tr>\n",
       "      <th>late_aircraft_delay</th>\n",
       "      <td>3343.0</td>\n",
       "      <td>1256.533353</td>\n",
       "      <td>4184.451426</td>\n",
       "      <td>0.0</td>\n",
       "      <td>31.00</td>\n",
       "      <td>205.00</td>\n",
       "      <td>724.000</td>\n",
       "      <td>75179.00</td>\n",
       "    </tr>\n",
       "  </tbody>\n",
       "</table>\n",
       "</div>"
      ],
      "text/plain": [
       "                      count         mean           std     min      25%  \\\n",
       "year                 3351.0  2019.459266      0.498412  2019.0  2019.00   \n",
       "month                3351.0    12.000000      0.000000    12.0    12.00   \n",
       "arr_flights          3343.0   298.271014    852.436335     1.0    35.00   \n",
       "arr_del15            3343.0    50.995214    146.484456     0.0     5.00   \n",
       "carrier_ct           3343.0    16.065337     41.759516     0.0     1.49   \n",
       "weather_ct           3343.0     1.443144      4.821657     0.0     0.00   \n",
       "nas_ct               3343.0    16.183383     56.423008     0.0     0.82   \n",
       "security_ct          3343.0     0.137320      0.646479     0.0     0.00   \n",
       "late_aircraft_ct     3343.0    17.166069     55.447043     0.0     0.90   \n",
       "arr_cancelled        3343.0     2.884535     10.126658     0.0     0.00   \n",
       "arr_diverted         3343.0     0.575830      2.097884     0.0     0.00   \n",
       "arr_delay            3343.0  3333.868083  10284.926623     0.0   230.00   \n",
       "carrier_delay        3343.0  1144.763087   3371.103512     0.0    68.50   \n",
       "weather_delay        3343.0   177.591385    734.343542     0.0     0.00   \n",
       "nas_delay            3343.0   749.579420   3190.509160     0.0    21.50   \n",
       "security_delay       3343.0     5.400838     27.161402     0.0     0.00   \n",
       "late_aircraft_delay  3343.0  1256.533353   4184.451426     0.0    31.00   \n",
       "\n",
       "                         50%       75%        max  \n",
       "year                 2019.00  2020.000    2020.00  \n",
       "month                  12.00    12.000      12.00  \n",
       "arr_flights            83.00   194.500   19713.00  \n",
       "arr_del15              12.00    33.000    2289.00  \n",
       "carrier_ct              4.75    12.255     697.00  \n",
       "weather_ct              0.06     1.010      89.42  \n",
       "nas_ct                  2.98     8.870    1039.54  \n",
       "security_ct             0.00     0.000      17.31  \n",
       "late_aircraft_ct        3.28    10.240     819.66  \n",
       "arr_cancelled           0.00     2.000     224.00  \n",
       "arr_diverted            0.00     0.000      42.00  \n",
       "arr_delay             746.00  2095.500  160383.00  \n",
       "carrier_delay         272.00   830.500   55215.00  \n",
       "weather_delay           3.00    82.000   14219.00  \n",
       "nas_delay             106.00   362.000   82064.00  \n",
       "security_delay          0.00     0.000     553.00  \n",
       "late_aircraft_delay   205.00   724.000   75179.00  "
      ]
     },
     "execution_count": 3,
     "metadata": {},
     "output_type": "execute_result"
    }
   ],
   "source": [
    "df.describe().T"
   ]
  },
  {
   "cell_type": "code",
   "execution_count": 4,
   "metadata": {},
   "outputs": [
    {
     "name": "stdout",
     "output_type": "stream",
     "text": [
      "Number of unique carriers: 17\n",
      "Number of unique airports: 360\n"
     ]
    }
   ],
   "source": [
    "print(f\"Number of unique carriers: {df['carrier'].nunique()}\")\n",
    "print(f\"Number of unique airports: {df['airport'].nunique()}\")"
   ]
  },
  {
   "cell_type": "markdown",
   "metadata": {},
   "source": [
    "## Question 1\n",
    "What variables sum up to `arr_del15`?\n",
    "\n",
    "Hypothesis: `carrier_ct` + `weather_ct` + `nas_ct` + `late_aircraft_ct` = `arr_del15`"
   ]
  },
  {
   "cell_type": "code",
   "execution_count": 15,
   "metadata": {},
   "outputs": [],
   "source": [
    "def find_matching_column_combinations(df, target_column, ignore=[], threshold=0.95): # imitating alpha 0.05\n",
    "    df = df.copy()\n",
    "    float_columns = df.select_dtypes(include=['float']).columns.tolist()\n",
    "    float_columns.remove(target_column)\n",
    "    float_columns = [col for col in float_columns if col not in ignore]\n",
    "    \n",
    "    valid_combinations = []\n",
    "\n",
    "    for i in range(2, len(float_columns) + 1):  # min 2 columns\n",
    "        for combo in combinations(float_columns, i):\n",
    "            df['sum_combo'] = df[list(combo)].sum(axis=1)\n",
    "            valid_rows = ((df[target_column] - 1 <= df['sum_combo']) & (df['sum_combo'] <= df[target_column] + 1)).sum() # Give an error margin of 1\n",
    "            if valid_rows >= int(threshold * len(df)): # check the minimum number of rows that must match the criteria\n",
    "                valid_combinations.append(combo)\n",
    "\n",
    "    #df.drop('sum_combo', axis=1, inplace=True)\n",
    "    print(f\"Valid column combinations that match the criteria at least {threshold}% of the time:\")\n",
    "    return valid_combinations"
   ]
  },
  {
   "cell_type": "code",
   "execution_count": 16,
   "metadata": {},
   "outputs": [
    {
     "name": "stdout",
     "output_type": "stream",
     "text": [
      "Valid column combinations that match the criteria at least 0.95% of the time:\n",
      "('carrier_ct', 'weather_ct', 'nas_ct', 'late_aircraft_ct')\n",
      "('carrier_ct', 'weather_ct', 'nas_ct', 'security_ct', 'late_aircraft_ct')\n"
     ]
    }
   ],
   "source": [
    "valid_combos = find_matching_column_combinations(df, target_column='arr_del15')\n",
    "for combo in valid_combos:\n",
    "    print(combo)"
   ]
  },
  {
   "cell_type": "code",
   "execution_count": 21,
   "metadata": {},
   "outputs": [
    {
     "data": {
      "image/png": "[encoded data removed]",
      "text/plain": [
       "<Figure size 1800x600 with 2 Axes>"
      ]
     },
     "metadata": {},
     "output_type": "display_data"
    }
   ],
   "source": [
    "counts = {\n",
    "    '0 to 1': ((df['security_ct'] >= 0) & (df['security_ct'] <= 1)).sum(),\n",
    "    'More than 1': (df['security_ct'] > 1).sum()\n",
    "}\n",
    "\n",
    "colors = ['grey', '#CF0A2C']\n",
    "\n",
    "fig, (ax1, ax2) = plt.subplots(1, 2, figsize=(18, 6)) \n",
    "\n",
    "ax1.pie(counts.values(), labels=counts.keys(), colors=colors, autopct='%1.1f%%', startangle=40, pctdistance=0.85)\n",
    "ax1.set_title('Percentage of security_ct Values More Than 1')\n",
    "\n",
    "# Draw circle in the middle of the pie chart\n",
    "centre_circle = plt.Circle((0,0),0.30,fc='white')\n",
    "ax1.add_artist(centre_circle)\n",
    "# ax1.axis('equal') \n",
    "ax1.set_facecolor('#f0f0f0')\n",
    "\n",
    "ax2.hist(df['security_ct'], bins=30, color='#CF0A2C')\n",
    "ax2.set_title('Distribution of security_ct Values')\n",
    "ax2.set_xlabel('security_ct Value')\n",
    "ax2.set_ylabel('Frequency')\n",
    "ax2.grid(True)\n",
    "ax2.set_facecolor('#f0f0f0')\n",
    "\n",
    "fig.patch.set_facecolor('white')\n",
    "\n",
    "plt.tight_layout()  \n",
    "plt.show()"
   ]
  },
  {
   "cell_type": "markdown",
   "metadata": {},
   "source": [
    "***intersection (&), union (|), difference (-), symmetric difference (^)***"
   ]
  },
  {
   "cell_type": "code",
   "execution_count": 22,
   "metadata": {},
   "outputs": [
    {
     "name": "stdout",
     "output_type": "stream",
     "text": [
      "Remaining columns: {'arr_flights', 'late_aircraft_delay', 'arr_diverted', 'carrier_delay', 'security_delay', 'weather_delay', 'arr_cancelled', 'arr_delay', 'nas_delay'}\n"
     ]
    }
   ],
   "source": [
    "float_columns = df.select_dtypes(include=['float']).columns.tolist()\n",
    "delay_n_flights = ['arr_del15', 'carrier_ct', 'weather_ct', 'nas_ct', 'security_ct', 'late_aircraft_ct']\n",
    "print(f\"Remaining columns: {set(float_columns) - set(delay_n_flights)}\")"
   ]
  },
  {
   "cell_type": "markdown",
   "metadata": {},
   "source": [
    "## Question 2\n",
    "Knowing `carrier_ct`, `weather_ct`, `nas_ct`, `security_ct`, `late_aircraft_ct` sum up to `arr_del15`\n",
    "\n",
    "What do `arr_flights`, `nas_delay`, `security_delay`, `carrier_delay`, `arr_delay`, `late_aircraft_delay`, `arr_diverted`, `arr_cancelled`, `weather_delay` represent?"
   ]
  },
  {
   "cell_type": "code",
   "execution_count": 23,
   "metadata": {},
   "outputs": [
    {
     "name": "stdout",
     "output_type": "stream",
     "text": [
      "Valid column combinations that match the criteria at least 0.95% of the time:\n",
      "('carrier_delay', 'weather_delay', 'nas_delay', 'security_delay', 'late_aircraft_delay')\n"
     ]
    }
   ],
   "source": [
    "ignore_num_flights_delay = ['carrier_ct', 'weather_ct', 'nas_ct', 'security_ct', 'late_aircraft_ct']\n",
    "valid_combos = find_matching_column_combinations(df, target_column='arr_delay', ignore=ignore_num_flights_delay, threshold=0.95)\n",
    "for combo in valid_combos:\n",
    "    print(combo)"
   ]
  },
  {
   "cell_type": "markdown",
   "metadata": {},
   "source": [
    "There are 5 independent attributes in the dataset. In the following dictionary they are marked as the key for the dictionary. The values are the dependent variables, which are basically suming up to their independent variable.\n",
    "\n",
    "For those variables with no dependedent features, their value is simply marked as None"
   ]
  },
  {
   "cell_type": "markdown",
   "metadata": {},
   "source": [
    "## Attribute Relationships"
   ]
  },
  {
   "cell_type": "code",
   "execution_count": 25,
   "metadata": {},
   "outputs": [],
   "source": [
    "relationships = {\n",
    "    # Total number of flights arriving at airport, use for percentage calculations\n",
    "    'arr_flights': None,\n",
    "    # Number of flights delayed 15 minutes or more\n",
    "    'arr_del15': ['carrier_ct', 'weather_ct', 'nas_ct', 'security_ct', 'late_aircraft_ct'],\n",
    "    # Total time (minutes) of delayed flight.\n",
    "    'arr_delay': ['carrier_delay', 'weather_delay', 'nas_delay', 'security_delay', 'late_aircraft_delay'],\n",
    "    # Number of cancelled flights\n",
    "    'arr_cancelled': None,\n",
    "    # Number of flights that were diverted\n",
    "    'arr_diverted': None,\n",
    "}"
   ]
  },
  {
   "cell_type": "markdown",
   "metadata": {},
   "source": [
    "# Question 3\n",
    "\n",
    "For 2019 or 2020, what is the percentage of delays according to the type of delay\n"
   ]
  },
  {
   "cell_type": "code",
   "execution_count": 26,
   "metadata": {},
   "outputs": [
    {
     "name": "stdout",
     "output_type": "stream",
     "text": [
      "Percentage of flights delayed due to carrier_ct: 28.74%\n",
      "Percentage of flights delayed due to weather_ct: 2.49%\n",
      "Percentage of flights delayed due to nas_ct: 30.45%\n",
      "Percentage of flights delayed due to security_ct: 0.22%\n",
      "Percentage of flights delayed due to late_aircraft_ct: 38.10%\n"
     ]
    }
   ],
   "source": [
    "for reason in relationships['arr_del15']:\n",
    "    print(f\"Percentage of flights delayed due to {reason}: {(df[df.year == 2019][reason].sum() / df[df.year == 2019]['arr_del15'].sum())*100.0:.2f}%\")"
   ]
  },
  {
   "cell_type": "code",
   "execution_count": 27,
   "metadata": {},
   "outputs": [
    {
     "name": "stdout",
     "output_type": "stream",
     "text": [
      "Percentage of flights delayed due to carrier_ct: 39.55%\n",
      "Percentage of flights delayed due to weather_ct: 3.82%\n",
      "Percentage of flights delayed due to nas_ct: 35.49%\n",
      "Percentage of flights delayed due to security_ct: 0.42%\n",
      "Percentage of flights delayed due to late_aircraft_ct: 20.72%\n"
     ]
    }
   ],
   "source": [
    "for reason in relationships['arr_del15']:\n",
    "    print(f\"Percentage of flights delayed due to {reason}: {(df[df.year == 2020][reason].sum() / df[df.year == 2020]['arr_del15'].sum())*100.0:.2f}%\")"
   ]
  },
  {
   "cell_type": "code",
   "execution_count": null,
   "metadata": {},
   "outputs": [],
   "source": []
  },
  {
   "cell_type": "code",
   "execution_count": null,
   "metadata": {},
   "outputs": [],
   "source": []
  }
 ],
 "metadata": {
  "kernelspec": {
   "display_name": "flight-delays",
   "language": "python",
   "name": "flight-delays"
  },
  "language_info": {
   "codemirror_mode": {
    "name": "ipython",
    "version": 3
   },
   "file_extension": ".py",
   "mimetype": "text/x-python",
   "name": "python",
   "nbconvert_exporter": "python",
   "pygments_lexer": "ipython3",
   "version": "3.12.2"
  }
 },
 "nbformat": 4,
 "nbformat_minor": 2
}
